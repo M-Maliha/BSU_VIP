{
 "cells": [
  {
   "cell_type": "code",
   "execution_count": 1,
   "id": "d8d796e8",
   "metadata": {},
   "outputs": [],
   "source": [
    "# Basic Data Science libraries\n",
    "import pandas as pd\n",
    "import numpy as np\n",
    "import matplotlib.pyplot as plt\n",
    "import seaborn as sns\n",
    "%matplotlib inline\n",
    "sns.set()"
   ]
  },
  {
   "cell_type": "code",
   "execution_count": 2,
   "id": "7faa23ed",
   "metadata": {},
   "outputs": [],
   "source": [
    "df=pd.read_csv(\"New_data.csv\")"
   ]
  },
  {
   "cell_type": "code",
   "execution_count": 3,
   "id": "5543b352",
   "metadata": {
    "scrolled": true
   },
   "outputs": [
    {
     "data": {
      "text/html": [
       "<div>\n",
       "<style scoped>\n",
       "    .dataframe tbody tr th:only-of-type {\n",
       "        vertical-align: middle;\n",
       "    }\n",
       "\n",
       "    .dataframe tbody tr th {\n",
       "        vertical-align: top;\n",
       "    }\n",
       "\n",
       "    .dataframe thead th {\n",
       "        text-align: right;\n",
       "    }\n",
       "</style>\n",
       "<table border=\"1\" class=\"dataframe\">\n",
       "  <thead>\n",
       "    <tr style=\"text-align: right;\">\n",
       "      <th></th>\n",
       "      <th>Nt</th>\n",
       "      <th>Nt1</th>\n",
       "    </tr>\n",
       "  </thead>\n",
       "  <tbody>\n",
       "    <tr>\n",
       "      <th>0</th>\n",
       "      <td>0</td>\n",
       "      <td>5</td>\n",
       "    </tr>\n",
       "    <tr>\n",
       "      <th>1</th>\n",
       "      <td>0</td>\n",
       "      <td>5</td>\n",
       "    </tr>\n",
       "    <tr>\n",
       "      <th>2</th>\n",
       "      <td>0</td>\n",
       "      <td>5</td>\n",
       "    </tr>\n",
       "    <tr>\n",
       "      <th>3</th>\n",
       "      <td>0</td>\n",
       "      <td>5</td>\n",
       "    </tr>\n",
       "    <tr>\n",
       "      <th>4</th>\n",
       "      <td>0</td>\n",
       "      <td>5</td>\n",
       "    </tr>\n",
       "  </tbody>\n",
       "</table>\n",
       "</div>"
      ],
      "text/plain": [
       "   Nt  Nt1\n",
       "0   0    5\n",
       "1   0    5\n",
       "2   0    5\n",
       "3   0    5\n",
       "4   0    5"
      ]
     },
     "execution_count": 3,
     "metadata": {},
     "output_type": "execute_result"
    }
   ],
   "source": [
    "df.head()"
   ]
  },
  {
   "cell_type": "code",
   "execution_count": 4,
   "id": "e3f3f1b2",
   "metadata": {},
   "outputs": [],
   "source": [
    "df2 = df.rename({'Nt': 'X', 'Nt1': 'y'}, axis=1)  "
   ]
  },
  {
   "cell_type": "code",
   "execution_count": 5,
   "id": "321fdf45",
   "metadata": {},
   "outputs": [],
   "source": [
    "from sklearn.model_selection import train_test_split"
   ]
  },
  {
   "cell_type": "code",
   "execution_count": 6,
   "id": "c4bccfaa",
   "metadata": {},
   "outputs": [],
   "source": [
    "X=df['Nt']\n",
    "y=df['Nt1']"
   ]
  },
  {
   "cell_type": "code",
   "execution_count": 7,
   "id": "1a0941e6",
   "metadata": {
    "scrolled": true
   },
   "outputs": [
    {
     "data": {
      "image/png": "[encoded data removed]",
      "text/plain": [
       "<Figure size 432x288 with 1 Axes>"
      ]
     },
     "metadata": {},
     "output_type": "display_data"
    }
   ],
   "source": [
    "plt.plot(X,y) \n",
    "plt.ylabel('Dependent Variable')\n",
    "plt.xlabel('Indepdendent Variable')\n",
    "plt.show()"
   ]
  },
  {
   "cell_type": "code",
   "execution_count": 11,
   "id": "3e527c25",
   "metadata": {},
   "outputs": [],
   "source": [
    "def bh_mod(X, r, k):\n",
    "    y = ((r*X)/(1 + (X/k)))\n",
    "    return y\n",
    "r =1.1289\n",
    "k= 18.7957\n",
    "\n",
    "\n",
    "# function\n",
    "Y_pred = bh_mod(X, r , k)"
   ]
  },
  {
   "cell_type": "code",
   "execution_count": 12,
   "id": "2c45681e",
   "metadata": {},
   "outputs": [],
   "source": [
    "from scipy.optimize import curve_fit\n",
    "popt, pcov = curve_fit(bh_mod, X, y)"
   ]
  },
  {
   "cell_type": "code",
   "execution_count": 13,
   "id": "b6508138",
   "metadata": {},
   "outputs": [],
   "source": [
    "X_train, X_test, y_train, y_test = train_test_split(X, y, test_size=0.33, random_state=42)"
   ]
  },
  {
   "cell_type": "code",
   "execution_count": 14,
   "id": "7e8e584d",
   "metadata": {},
   "outputs": [],
   "source": [
    "# build the model using train set\n",
    "popt, pcov = curve_fit(bh_mod, X_train, y_train)"
   ]
  },
  {
   "cell_type": "code",
   "execution_count": 15,
   "id": "b44dec88",
   "metadata": {},
   "outputs": [],
   "source": [
    "#print(\"Mean absolute error: %.2f\" % np.mean(np.absolute(y_hat - y_test))\n",
    "#print(\"Residual sum of squares (MSE): %.2f\" % np.mean((y_hat -y_test) ** 2))\n",
    "#from sklearn.metrics import r2_score\n",
    "#print(\"R2-score: %.2f\" % r2_score(y_hat , test_y)"
   ]
  },
  {
   "cell_type": "code",
   "execution_count": 16,
   "id": "2bfefa78",
   "metadata": {},
   "outputs": [],
   "source": [
    "\n",
    "import random\n",
    "\n",
    "random.seed(10)\n",
    "\n",
    "# split data into train/test\n",
    "msk = np.random.rand(len(df))<0.67\n",
    "train_x = X[~msk]\n",
    "test_x = X[~msk]\n",
    "train_y = y[~msk]\n",
    "test_y = y[~msk]\n",
    "# build the model using train set\n",
    "popt, pcov = curve_fit(bh_mod, train_x, train_y)\n",
    "# predict using test set\n",
    "y_hat = bh_mod(test_x, *popt)\n"
   ]
  },
  {
   "cell_type": "code",
   "execution_count": 17,
   "id": "9c1a2ab7",
   "metadata": {},
   "outputs": [
    {
     "name": "stdout",
     "output_type": "stream",
     "text": [
      "RMSE: 1.83\n"
     ]
    }
   ],
   "source": [
    "# evaluation\n",
    "#print(\"Mean absolute error: %.2f\" % np.mean(np.absolute(y_hat - test_y)))\n",
    "# evaluation\n",
    "print(\"RMSE: %.2f\" % np.mean(np.absolute(y_hat - test_y)**2)**.5)"
   ]
  },
  {
   "cell_type": "code",
   "execution_count": 18,
   "id": "9820a5d5",
   "metadata": {},
   "outputs": [
    {
     "data": {
      "text/plain": [
       "True"
      ]
     },
     "execution_count": 18,
     "metadata": {},
     "output_type": "execute_result"
    }
   ],
   "source": [
    "msk.max()"
   ]
  },
  {
   "cell_type": "code",
   "execution_count": 19,
   "id": "96cb4579",
   "metadata": {},
   "outputs": [
    {
     "name": "stdout",
     "output_type": "stream",
     "text": [
      "RMSE: 1.83\n"
     ]
    }
   ],
   "source": [
    "msk2 = np.random.rand(len(df))<0.73\n",
    "train_x = X[~msk2]\n",
    "test_x = X[~msk2]\n",
    "train_y = y[~msk2]\n",
    "test_y = y[~msk2]\n",
    "# build the model using train set\n",
    "popt, pcov = curve_fit(bh_mod, train_x, train_y)\n",
    "# predict using test set\n",
    "y_hat = bh_mod(test_x, *popt)\n",
    "\n",
    "# evaluation\n",
    "print(\"RMSE: %.2f\" % np.mean(np.absolute(y_hat - test_y)**2)**.5)"
   ]
  },
  {
   "cell_type": "code",
   "execution_count": 21,
   "id": "f96b9531",
   "metadata": {},
   "outputs": [
    {
     "name": "stdout",
     "output_type": "stream",
     "text": [
      "RMSE: 1.84\n"
     ]
    }
   ],
   "source": [
    "msk3 = np.random.rand(len(df))<0.8332\n",
    "train_x = X[~msk3]\n",
    "test_x = X[~msk3]\n",
    "train_y = y[~msk3]\n",
    "test_y = y[~msk3]\n",
    "# build the model using train set\n",
    "popt, pcov = curve_fit(bh_mod, train_x, train_y)\n",
    "# predict using test set\n",
    "y_hat = bh_mod(test_x, *popt)\n",
    "\n",
    "# evaluation\n",
    "#print(\"Mean absolute error: %.2f\" % np.mean(np.absolute(y_hat - test_y)))\n",
    "# evaluation\n",
    "print(\"RMSE: %.2f\" % np.mean(np.absolute(y_hat - test_y)**2)**.5)"
   ]
  },
  {
   "cell_type": "code",
   "execution_count": 22,
   "id": "0ad35db1",
   "metadata": {},
   "outputs": [],
   "source": [
    "msk4 = np.random.rand(len(df))<0.67\n",
    "train_x = X[~msk4]\n",
    "test_x = X[~msk4]\n",
    "train_y = y[~msk4]\n",
    "test_y = y[~msk4]\n",
    "# build the model using train set\n",
    "popt, pcov = curve_fit(bh_mod, train_x, train_y)\n",
    "# predict using test set\n",
    "y_hat = bh_mod(test_x, *popt)\n",
    "\n",
    "# evaluation\n",
    "print(\"RMSE: %.2f\" % np.mean(np.absolute(y_hat - test_y)**2)**.5)"
   ]
  },
  {
   "cell_type": "code",
   "execution_count": null,
   "id": "84a1e228",
   "metadata": {},
   "outputs": [],
   "source": []
  }
 ],
 "metadata": {
  "kernelspec": {
   "display_name": "Python 3 (ipykernel)",
   "language": "python",
   "name": "python3"
  },
  "language_info": {
   "codemirror_mode": {
    "name": "ipython",
    "version": 3
   },
   "file_extension": ".py",
   "mimetype": "text/x-python",
   "name": "python",
   "nbconvert_exporter": "python",
   "pygments_lexer": "ipython3",
   "version": "3.9.12"
  }
 },
 "nbformat": 4,
 "nbformat_minor": 5
}
