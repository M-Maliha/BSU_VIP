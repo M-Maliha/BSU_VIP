{
 "cells": [
  {
   "cell_type": "code",
   "execution_count": 1,
   "id": "8414ca4f",
   "metadata": {},
   "outputs": [
    {
     "data": {
      "text/plain": [
       "'/Users/maishamaliha'"
      ]
     },
     "execution_count": 1,
     "metadata": {},
     "output_type": "execute_result"
    }
   ],
   "source": [
    "pwd"
   ]
  },
  {
   "cell_type": "code",
   "execution_count": 2,
   "id": "17eee742",
   "metadata": {},
   "outputs": [],
   "source": [
    "#nlcd_sage_beryl_1988.csv\n",
    "# The rows in the spreadsheet represent patches \n",
    "#columns represent sagebrush abundance "
   ]
  },
  {
   "cell_type": "code",
   "execution_count": 1,
   "id": "29934b54",
   "metadata": {},
   "outputs": [],
   "source": [
    "import pandas as pd\n",
    "import seaborn as sns\n",
    "from statsmodels.graphics.tsaplots import acf, plot_acf, plot_pacf\n",
    "from statsmodels.tsa.stattools import adfuller\n",
    "from pmdarima.arima.utils import ndiffs\n",
    "from statsmodels.tsa.arima_model import ARIMA\n",
    "import pmdarima as pm"
   ]
  },
  {
   "cell_type": "code",
   "execution_count": 2,
   "id": "824e259d",
   "metadata": {},
   "outputs": [],
   "source": [
    "import numpy as np\n",
    "import matplotlib.pyplot as plt \n",
    "%matplotlib inline\n",
    "import scipy.stats as sps\n",
    "from scipy.optimize import curve_fit"
   ]
  },
  {
   "cell_type": "code",
   "execution_count": 3,
   "id": "88ebb735",
   "metadata": {},
   "outputs": [],
   "source": [
    "sage=pd.read_csv(\"nlcd_sage_beryl_1988.csv\")"
   ]
  },
  {
   "cell_type": "code",
   "execution_count": 4,
   "id": "123a02ea",
   "metadata": {},
   "outputs": [
    {
     "data": {
      "text/html": [
       "<div>\n",
       "<style scoped>\n",
       "    .dataframe tbody tr th:only-of-type {\n",
       "        vertical-align: middle;\n",
       "    }\n",
       "\n",
       "    .dataframe tbody tr th {\n",
       "        vertical-align: top;\n",
       "    }\n",
       "\n",
       "    .dataframe thead th {\n",
       "        text-align: right;\n",
       "    }\n",
       "</style>\n",
       "<table border=\"1\" class=\"dataframe\">\n",
       "  <thead>\n",
       "    <tr style=\"text-align: right;\">\n",
       "      <th></th>\n",
       "      <th>nlcd_sage_1988_mos_rec_v1</th>\n",
       "      <th>nlcd_sage_1989_mos_rec_v1</th>\n",
       "      <th>nlcd_sage_1990_mos_rec_v1</th>\n",
       "      <th>nlcd_sage_1991_mos_rec_v1</th>\n",
       "      <th>nlcd_sage_1992_mos_rec_v1</th>\n",
       "      <th>nlcd_sage_1993_mos_rec_v1</th>\n",
       "      <th>nlcd_sage_1994_mos_rec_v1</th>\n",
       "      <th>nlcd_sage_1995_mos_rec_v1</th>\n",
       "      <th>nlcd_sage_1996_mos_rec_v1</th>\n",
       "      <th>nlcd_sage_1997_mos_rec_v1</th>\n",
       "      <th>...</th>\n",
       "      <th>nlcd_sage_2008_mos_rec_v1</th>\n",
       "      <th>nlcd_sage_2009_mos_rec_v1</th>\n",
       "      <th>nlcd_sage_2010_mos_rec_v1</th>\n",
       "      <th>nlcd_sage_2011_mos_rec_v1</th>\n",
       "      <th>nlcd_sage_2013_mos_rec_v1</th>\n",
       "      <th>nlcd_sage_2014_mos_rec_v1</th>\n",
       "      <th>nlcd_sage_2015_mos_rec_v1</th>\n",
       "      <th>nlcd_sage_2016_mos_rec_v1</th>\n",
       "      <th>nlcd_sage_2017_mos_rec_v1</th>\n",
       "      <th>nlcd_sage_2018_mos_rec_v1</th>\n",
       "    </tr>\n",
       "  </thead>\n",
       "  <tbody>\n",
       "    <tr>\n",
       "      <th>0</th>\n",
       "      <td>0</td>\n",
       "      <td>5</td>\n",
       "      <td>8</td>\n",
       "      <td>10</td>\n",
       "      <td>9</td>\n",
       "      <td>13</td>\n",
       "      <td>15</td>\n",
       "      <td>14</td>\n",
       "      <td>14</td>\n",
       "      <td>15</td>\n",
       "      <td>...</td>\n",
       "      <td>14</td>\n",
       "      <td>15</td>\n",
       "      <td>15</td>\n",
       "      <td>15</td>\n",
       "      <td>15</td>\n",
       "      <td>15</td>\n",
       "      <td>15</td>\n",
       "      <td>15</td>\n",
       "      <td>15</td>\n",
       "      <td>15</td>\n",
       "    </tr>\n",
       "    <tr>\n",
       "      <th>1</th>\n",
       "      <td>0</td>\n",
       "      <td>5</td>\n",
       "      <td>8</td>\n",
       "      <td>10</td>\n",
       "      <td>12</td>\n",
       "      <td>13</td>\n",
       "      <td>17</td>\n",
       "      <td>16</td>\n",
       "      <td>17</td>\n",
       "      <td>17</td>\n",
       "      <td>...</td>\n",
       "      <td>17</td>\n",
       "      <td>17</td>\n",
       "      <td>17</td>\n",
       "      <td>17</td>\n",
       "      <td>17</td>\n",
       "      <td>17</td>\n",
       "      <td>17</td>\n",
       "      <td>17</td>\n",
       "      <td>17</td>\n",
       "      <td>17</td>\n",
       "    </tr>\n",
       "    <tr>\n",
       "      <th>2</th>\n",
       "      <td>0</td>\n",
       "      <td>5</td>\n",
       "      <td>8</td>\n",
       "      <td>10</td>\n",
       "      <td>13</td>\n",
       "      <td>13</td>\n",
       "      <td>15</td>\n",
       "      <td>14</td>\n",
       "      <td>14</td>\n",
       "      <td>24</td>\n",
       "      <td>...</td>\n",
       "      <td>26</td>\n",
       "      <td>26</td>\n",
       "      <td>26</td>\n",
       "      <td>26</td>\n",
       "      <td>26</td>\n",
       "      <td>26</td>\n",
       "      <td>26</td>\n",
       "      <td>26</td>\n",
       "      <td>26</td>\n",
       "      <td>26</td>\n",
       "    </tr>\n",
       "    <tr>\n",
       "      <th>3</th>\n",
       "      <td>0</td>\n",
       "      <td>5</td>\n",
       "      <td>8</td>\n",
       "      <td>10</td>\n",
       "      <td>13</td>\n",
       "      <td>15</td>\n",
       "      <td>14</td>\n",
       "      <td>15</td>\n",
       "      <td>15</td>\n",
       "      <td>24</td>\n",
       "      <td>...</td>\n",
       "      <td>26</td>\n",
       "      <td>26</td>\n",
       "      <td>26</td>\n",
       "      <td>26</td>\n",
       "      <td>26</td>\n",
       "      <td>26</td>\n",
       "      <td>26</td>\n",
       "      <td>26</td>\n",
       "      <td>26</td>\n",
       "      <td>26</td>\n",
       "    </tr>\n",
       "    <tr>\n",
       "      <th>4</th>\n",
       "      <td>0</td>\n",
       "      <td>5</td>\n",
       "      <td>8</td>\n",
       "      <td>8</td>\n",
       "      <td>9</td>\n",
       "      <td>10</td>\n",
       "      <td>11</td>\n",
       "      <td>14</td>\n",
       "      <td>13</td>\n",
       "      <td>14</td>\n",
       "      <td>...</td>\n",
       "      <td>14</td>\n",
       "      <td>14</td>\n",
       "      <td>14</td>\n",
       "      <td>14</td>\n",
       "      <td>14</td>\n",
       "      <td>14</td>\n",
       "      <td>14</td>\n",
       "      <td>14</td>\n",
       "      <td>14</td>\n",
       "      <td>14</td>\n",
       "    </tr>\n",
       "  </tbody>\n",
       "</table>\n",
       "<p>5 rows × 30 columns</p>\n",
       "</div>"
      ],
      "text/plain": [
       "   nlcd_sage_1988_mos_rec_v1  nlcd_sage_1989_mos_rec_v1  \\\n",
       "0                          0                          5   \n",
       "1                          0                          5   \n",
       "2                          0                          5   \n",
       "3                          0                          5   \n",
       "4                          0                          5   \n",
       "\n",
       "   nlcd_sage_1990_mos_rec_v1  nlcd_sage_1991_mos_rec_v1  \\\n",
       "0                          8                         10   \n",
       "1                          8                         10   \n",
       "2                          8                         10   \n",
       "3                          8                         10   \n",
       "4                          8                          8   \n",
       "\n",
       "   nlcd_sage_1992_mos_rec_v1  nlcd_sage_1993_mos_rec_v1  \\\n",
       "0                          9                         13   \n",
       "1                         12                         13   \n",
       "2                         13                         13   \n",
       "3                         13                         15   \n",
       "4                          9                         10   \n",
       "\n",
       "   nlcd_sage_1994_mos_rec_v1  nlcd_sage_1995_mos_rec_v1  \\\n",
       "0                         15                         14   \n",
       "1                         17                         16   \n",
       "2                         15                         14   \n",
       "3                         14                         15   \n",
       "4                         11                         14   \n",
       "\n",
       "   nlcd_sage_1996_mos_rec_v1  nlcd_sage_1997_mos_rec_v1  ...  \\\n",
       "0                         14                         15  ...   \n",
       "1                         17                         17  ...   \n",
       "2                         14                         24  ...   \n",
       "3                         15                         24  ...   \n",
       "4                         13                         14  ...   \n",
       "\n",
       "   nlcd_sage_2008_mos_rec_v1  nlcd_sage_2009_mos_rec_v1  \\\n",
       "0                         14                         15   \n",
       "1                         17                         17   \n",
       "2                         26                         26   \n",
       "3                         26                         26   \n",
       "4                         14                         14   \n",
       "\n",
       "   nlcd_sage_2010_mos_rec_v1  nlcd_sage_2011_mos_rec_v1  \\\n",
       "0                         15                         15   \n",
       "1                         17                         17   \n",
       "2                         26                         26   \n",
       "3                         26                         26   \n",
       "4                         14                         14   \n",
       "\n",
       "   nlcd_sage_2013_mos_rec_v1  nlcd_sage_2014_mos_rec_v1  \\\n",
       "0                         15                         15   \n",
       "1                         17                         17   \n",
       "2                         26                         26   \n",
       "3                         26                         26   \n",
       "4                         14                         14   \n",
       "\n",
       "   nlcd_sage_2015_mos_rec_v1  nlcd_sage_2016_mos_rec_v1  \\\n",
       "0                         15                         15   \n",
       "1                         17                         17   \n",
       "2                         26                         26   \n",
       "3                         26                         26   \n",
       "4                         14                         14   \n",
       "\n",
       "   nlcd_sage_2017_mos_rec_v1  nlcd_sage_2018_mos_rec_v1  \n",
       "0                         15                         15  \n",
       "1                         17                         17  \n",
       "2                         26                         26  \n",
       "3                         26                         26  \n",
       "4                         14                         14  \n",
       "\n",
       "[5 rows x 30 columns]"
      ]
     },
     "execution_count": 4,
     "metadata": {},
     "output_type": "execute_result"
    }
   ],
   "source": [
    "sage.head()"
   ]
  },
  {
   "cell_type": "code",
   "execution_count": 5,
   "id": "18184392",
   "metadata": {},
   "outputs": [
    {
     "data": {
      "text/html": [
       "<div>\n",
       "<style scoped>\n",
       "    .dataframe tbody tr th:only-of-type {\n",
       "        vertical-align: middle;\n",
       "    }\n",
       "\n",
       "    .dataframe tbody tr th {\n",
       "        vertical-align: top;\n",
       "    }\n",
       "\n",
       "    .dataframe thead th {\n",
       "        text-align: right;\n",
       "    }\n",
       "</style>\n",
       "<table border=\"1\" class=\"dataframe\">\n",
       "  <thead>\n",
       "    <tr style=\"text-align: right;\">\n",
       "      <th></th>\n",
       "      <th>1988</th>\n",
       "      <th>1989</th>\n",
       "      <th>1990</th>\n",
       "      <th>1991</th>\n",
       "      <th>1992</th>\n",
       "      <th>1993</th>\n",
       "      <th>1994</th>\n",
       "      <th>1995</th>\n",
       "      <th>1996</th>\n",
       "      <th>1997</th>\n",
       "      <th>...</th>\n",
       "      <th>2008</th>\n",
       "      <th>2009</th>\n",
       "      <th>2010</th>\n",
       "      <th>2011</th>\n",
       "      <th>2013</th>\n",
       "      <th>2014</th>\n",
       "      <th>2015</th>\n",
       "      <th>2016</th>\n",
       "      <th>2017</th>\n",
       "      <th>2018</th>\n",
       "    </tr>\n",
       "  </thead>\n",
       "  <tbody>\n",
       "    <tr>\n",
       "      <th>0</th>\n",
       "      <td>0</td>\n",
       "      <td>5</td>\n",
       "      <td>8</td>\n",
       "      <td>10</td>\n",
       "      <td>9</td>\n",
       "      <td>13</td>\n",
       "      <td>15</td>\n",
       "      <td>14</td>\n",
       "      <td>14</td>\n",
       "      <td>15</td>\n",
       "      <td>...</td>\n",
       "      <td>14</td>\n",
       "      <td>15</td>\n",
       "      <td>15</td>\n",
       "      <td>15</td>\n",
       "      <td>15</td>\n",
       "      <td>15</td>\n",
       "      <td>15</td>\n",
       "      <td>15</td>\n",
       "      <td>15</td>\n",
       "      <td>15</td>\n",
       "    </tr>\n",
       "    <tr>\n",
       "      <th>1</th>\n",
       "      <td>0</td>\n",
       "      <td>5</td>\n",
       "      <td>8</td>\n",
       "      <td>10</td>\n",
       "      <td>12</td>\n",
       "      <td>13</td>\n",
       "      <td>17</td>\n",
       "      <td>16</td>\n",
       "      <td>17</td>\n",
       "      <td>17</td>\n",
       "      <td>...</td>\n",
       "      <td>17</td>\n",
       "      <td>17</td>\n",
       "      <td>17</td>\n",
       "      <td>17</td>\n",
       "      <td>17</td>\n",
       "      <td>17</td>\n",
       "      <td>17</td>\n",
       "      <td>17</td>\n",
       "      <td>17</td>\n",
       "      <td>17</td>\n",
       "    </tr>\n",
       "    <tr>\n",
       "      <th>2</th>\n",
       "      <td>0</td>\n",
       "      <td>5</td>\n",
       "      <td>8</td>\n",
       "      <td>10</td>\n",
       "      <td>13</td>\n",
       "      <td>13</td>\n",
       "      <td>15</td>\n",
       "      <td>14</td>\n",
       "      <td>14</td>\n",
       "      <td>24</td>\n",
       "      <td>...</td>\n",
       "      <td>26</td>\n",
       "      <td>26</td>\n",
       "      <td>26</td>\n",
       "      <td>26</td>\n",
       "      <td>26</td>\n",
       "      <td>26</td>\n",
       "      <td>26</td>\n",
       "      <td>26</td>\n",
       "      <td>26</td>\n",
       "      <td>26</td>\n",
       "    </tr>\n",
       "    <tr>\n",
       "      <th>3</th>\n",
       "      <td>0</td>\n",
       "      <td>5</td>\n",
       "      <td>8</td>\n",
       "      <td>10</td>\n",
       "      <td>13</td>\n",
       "      <td>15</td>\n",
       "      <td>14</td>\n",
       "      <td>15</td>\n",
       "      <td>15</td>\n",
       "      <td>24</td>\n",
       "      <td>...</td>\n",
       "      <td>26</td>\n",
       "      <td>26</td>\n",
       "      <td>26</td>\n",
       "      <td>26</td>\n",
       "      <td>26</td>\n",
       "      <td>26</td>\n",
       "      <td>26</td>\n",
       "      <td>26</td>\n",
       "      <td>26</td>\n",
       "      <td>26</td>\n",
       "    </tr>\n",
       "    <tr>\n",
       "      <th>4</th>\n",
       "      <td>0</td>\n",
       "      <td>5</td>\n",
       "      <td>8</td>\n",
       "      <td>8</td>\n",
       "      <td>9</td>\n",
       "      <td>10</td>\n",
       "      <td>11</td>\n",
       "      <td>14</td>\n",
       "      <td>13</td>\n",
       "      <td>14</td>\n",
       "      <td>...</td>\n",
       "      <td>14</td>\n",
       "      <td>14</td>\n",
       "      <td>14</td>\n",
       "      <td>14</td>\n",
       "      <td>14</td>\n",
       "      <td>14</td>\n",
       "      <td>14</td>\n",
       "      <td>14</td>\n",
       "      <td>14</td>\n",
       "      <td>14</td>\n",
       "    </tr>\n",
       "  </tbody>\n",
       "</table>\n",
       "<p>5 rows × 30 columns</p>\n",
       "</div>"
      ],
      "text/plain": [
       "   1988  1989  1990  1991  1992  1993  1994  1995  1996  1997  ...  2008  \\\n",
       "0     0     5     8    10     9    13    15    14    14    15  ...    14   \n",
       "1     0     5     8    10    12    13    17    16    17    17  ...    17   \n",
       "2     0     5     8    10    13    13    15    14    14    24  ...    26   \n",
       "3     0     5     8    10    13    15    14    15    15    24  ...    26   \n",
       "4     0     5     8     8     9    10    11    14    13    14  ...    14   \n",
       "\n",
       "   2009  2010  2011  2013  2014  2015  2016  2017  2018  \n",
       "0    15    15    15    15    15    15    15    15    15  \n",
       "1    17    17    17    17    17    17    17    17    17  \n",
       "2    26    26    26    26    26    26    26    26    26  \n",
       "3    26    26    26    26    26    26    26    26    26  \n",
       "4    14    14    14    14    14    14    14    14    14  \n",
       "\n",
       "[5 rows x 30 columns]"
      ]
     },
     "execution_count": 5,
     "metadata": {},
     "output_type": "execute_result"
    }
   ],
   "source": [
    "sage = sage.rename(columns=lambda x: x.replace('nlcd_sage_', ''))\n",
    "sage = sage.rename(columns=lambda x: x.replace('_mos_rec_v1', ''))\n",
    "sage.head()\n"
   ]
  },
  {
   "cell_type": "code",
   "execution_count": 7,
   "id": "f09858f3",
   "metadata": {},
   "outputs": [
    {
     "data": {
      "image/png": "[encoded data removed]",
      "text/plain": [
       "<Figure size 2160x720 with 30 Axes>"
      ]
     },
     "metadata": {
      "needs_background": "light"
     },
     "output_type": "display_data"
    }
   ],
   "source": [
    "#plt.figure(figsize=(20,8))\n",
    "sage.hist(bins=10,figsize=(30,10));"
   ]
  },
  {
   "cell_type": "code",
   "execution_count": 9,
   "id": "d01a979c",
   "metadata": {},
   "outputs": [],
   "source": [
    "#sage.info()"
   ]
  },
  {
   "cell_type": "code",
   "execution_count": 6,
   "id": "1a06da80",
   "metadata": {},
   "outputs": [
    {
     "data": {
      "text/plain": [
       "(13327, 30)"
      ]
     },
     "execution_count": 6,
     "metadata": {},
     "output_type": "execute_result"
    }
   ],
   "source": [
    "sage.shape"
   ]
  },
  {
   "cell_type": "code",
   "execution_count": 9,
   "id": "3969f99b",
   "metadata": {},
   "outputs": [
    {
     "data": {
      "text/plain": [
       "Index(['1988', '1989', '1990', '1991', '1992', '1993', '1994', '1995', '1996',\n",
       "       '1997', '1998', '1999', '2000', '2001', '2002', '2003', '2004', '2005',\n",
       "       '2006', '2007', '2008', '2009', '2010', '2011', '2013', '2014', '2015',\n",
       "       '2016', '2017', '2018'],\n",
       "      dtype='object')"
      ]
     },
     "execution_count": 9,
     "metadata": {},
     "output_type": "execute_result"
    }
   ],
   "source": [
    "sage.columns"
   ]
  },
  {
   "cell_type": "code",
   "execution_count": 7,
   "id": "bc7800b2",
   "metadata": {},
   "outputs": [
    {
     "data": {
      "text/html": [
       "<div>\n",
       "<style scoped>\n",
       "    .dataframe tbody tr th:only-of-type {\n",
       "        vertical-align: middle;\n",
       "    }\n",
       "\n",
       "    .dataframe tbody tr th {\n",
       "        vertical-align: top;\n",
       "    }\n",
       "\n",
       "    .dataframe thead th {\n",
       "        text-align: right;\n",
       "    }\n",
       "</style>\n",
       "<table border=\"1\" class=\"dataframe\">\n",
       "  <thead>\n",
       "    <tr style=\"text-align: right;\">\n",
       "      <th></th>\n",
       "      <th>1988</th>\n",
       "      <th>1989</th>\n",
       "      <th>1990</th>\n",
       "      <th>1991</th>\n",
       "      <th>1992</th>\n",
       "      <th>1993</th>\n",
       "      <th>1994</th>\n",
       "      <th>1995</th>\n",
       "      <th>1996</th>\n",
       "      <th>1997</th>\n",
       "      <th>...</th>\n",
       "      <th>2008</th>\n",
       "      <th>2009</th>\n",
       "      <th>2010</th>\n",
       "      <th>2011</th>\n",
       "      <th>2013</th>\n",
       "      <th>2014</th>\n",
       "      <th>2015</th>\n",
       "      <th>2016</th>\n",
       "      <th>2017</th>\n",
       "      <th>2018</th>\n",
       "    </tr>\n",
       "  </thead>\n",
       "  <tbody>\n",
       "    <tr>\n",
       "      <th>count</th>\n",
       "      <td>13327.000000</td>\n",
       "      <td>13327.000000</td>\n",
       "      <td>13327.000000</td>\n",
       "      <td>13327.000000</td>\n",
       "      <td>13327.000000</td>\n",
       "      <td>13327.000000</td>\n",
       "      <td>13327.000000</td>\n",
       "      <td>13327.000000</td>\n",
       "      <td>13327.000000</td>\n",
       "      <td>13327.000000</td>\n",
       "      <td>...</td>\n",
       "      <td>13327.000000</td>\n",
       "      <td>13327.000000</td>\n",
       "      <td>13327.000000</td>\n",
       "      <td>13327.000000</td>\n",
       "      <td>13327.000000</td>\n",
       "      <td>13327.000000</td>\n",
       "      <td>13327.000000</td>\n",
       "      <td>13327.000000</td>\n",
       "      <td>13327.000000</td>\n",
       "      <td>13327.000000</td>\n",
       "    </tr>\n",
       "    <tr>\n",
       "      <th>mean</th>\n",
       "      <td>0.003076</td>\n",
       "      <td>1.339236</td>\n",
       "      <td>2.899827</td>\n",
       "      <td>5.214152</td>\n",
       "      <td>4.817438</td>\n",
       "      <td>7.844676</td>\n",
       "      <td>7.599385</td>\n",
       "      <td>9.419524</td>\n",
       "      <td>8.949351</td>\n",
       "      <td>9.809560</td>\n",
       "      <td>...</td>\n",
       "      <td>10.144369</td>\n",
       "      <td>9.943948</td>\n",
       "      <td>9.458843</td>\n",
       "      <td>9.301493</td>\n",
       "      <td>9.293990</td>\n",
       "      <td>8.998724</td>\n",
       "      <td>9.084340</td>\n",
       "      <td>8.697982</td>\n",
       "      <td>8.923013</td>\n",
       "      <td>8.903504</td>\n",
       "    </tr>\n",
       "    <tr>\n",
       "      <th>std</th>\n",
       "      <td>0.179397</td>\n",
       "      <td>2.065913</td>\n",
       "      <td>3.086371</td>\n",
       "      <td>3.560047</td>\n",
       "      <td>3.604873</td>\n",
       "      <td>3.500482</td>\n",
       "      <td>3.619263</td>\n",
       "      <td>3.498970</td>\n",
       "      <td>3.541300</td>\n",
       "      <td>3.344436</td>\n",
       "      <td>...</td>\n",
       "      <td>3.516905</td>\n",
       "      <td>3.576768</td>\n",
       "      <td>3.627806</td>\n",
       "      <td>3.765374</td>\n",
       "      <td>3.689512</td>\n",
       "      <td>3.821538</td>\n",
       "      <td>3.750063</td>\n",
       "      <td>3.669538</td>\n",
       "      <td>3.596017</td>\n",
       "      <td>3.797318</td>\n",
       "    </tr>\n",
       "    <tr>\n",
       "      <th>min</th>\n",
       "      <td>0.000000</td>\n",
       "      <td>0.000000</td>\n",
       "      <td>0.000000</td>\n",
       "      <td>0.000000</td>\n",
       "      <td>0.000000</td>\n",
       "      <td>0.000000</td>\n",
       "      <td>0.000000</td>\n",
       "      <td>0.000000</td>\n",
       "      <td>0.000000</td>\n",
       "      <td>0.000000</td>\n",
       "      <td>...</td>\n",
       "      <td>0.000000</td>\n",
       "      <td>0.000000</td>\n",
       "      <td>0.000000</td>\n",
       "      <td>0.000000</td>\n",
       "      <td>0.000000</td>\n",
       "      <td>0.000000</td>\n",
       "      <td>0.000000</td>\n",
       "      <td>0.000000</td>\n",
       "      <td>0.000000</td>\n",
       "      <td>0.000000</td>\n",
       "    </tr>\n",
       "    <tr>\n",
       "      <th>25%</th>\n",
       "      <td>0.000000</td>\n",
       "      <td>0.000000</td>\n",
       "      <td>0.000000</td>\n",
       "      <td>3.000000</td>\n",
       "      <td>0.000000</td>\n",
       "      <td>6.000000</td>\n",
       "      <td>5.000000</td>\n",
       "      <td>7.000000</td>\n",
       "      <td>7.000000</td>\n",
       "      <td>8.000000</td>\n",
       "      <td>...</td>\n",
       "      <td>8.000000</td>\n",
       "      <td>8.000000</td>\n",
       "      <td>7.000000</td>\n",
       "      <td>7.000000</td>\n",
       "      <td>7.000000</td>\n",
       "      <td>7.000000</td>\n",
       "      <td>7.000000</td>\n",
       "      <td>6.000000</td>\n",
       "      <td>7.000000</td>\n",
       "      <td>7.000000</td>\n",
       "    </tr>\n",
       "    <tr>\n",
       "      <th>50%</th>\n",
       "      <td>0.000000</td>\n",
       "      <td>0.000000</td>\n",
       "      <td>3.000000</td>\n",
       "      <td>6.000000</td>\n",
       "      <td>5.000000</td>\n",
       "      <td>8.000000</td>\n",
       "      <td>8.000000</td>\n",
       "      <td>9.000000</td>\n",
       "      <td>9.000000</td>\n",
       "      <td>10.000000</td>\n",
       "      <td>...</td>\n",
       "      <td>10.000000</td>\n",
       "      <td>10.000000</td>\n",
       "      <td>10.000000</td>\n",
       "      <td>9.000000</td>\n",
       "      <td>9.000000</td>\n",
       "      <td>8.000000</td>\n",
       "      <td>9.000000</td>\n",
       "      <td>8.000000</td>\n",
       "      <td>9.000000</td>\n",
       "      <td>9.000000</td>\n",
       "    </tr>\n",
       "    <tr>\n",
       "      <th>75%</th>\n",
       "      <td>0.000000</td>\n",
       "      <td>3.000000</td>\n",
       "      <td>5.000000</td>\n",
       "      <td>8.000000</td>\n",
       "      <td>8.000000</td>\n",
       "      <td>10.000000</td>\n",
       "      <td>10.000000</td>\n",
       "      <td>12.000000</td>\n",
       "      <td>11.000000</td>\n",
       "      <td>12.000000</td>\n",
       "      <td>...</td>\n",
       "      <td>13.000000</td>\n",
       "      <td>12.000000</td>\n",
       "      <td>12.000000</td>\n",
       "      <td>11.000000</td>\n",
       "      <td>11.000000</td>\n",
       "      <td>11.000000</td>\n",
       "      <td>11.000000</td>\n",
       "      <td>11.000000</td>\n",
       "      <td>11.000000</td>\n",
       "      <td>11.000000</td>\n",
       "    </tr>\n",
       "    <tr>\n",
       "      <th>max</th>\n",
       "      <td>12.000000</td>\n",
       "      <td>17.000000</td>\n",
       "      <td>16.000000</td>\n",
       "      <td>17.000000</td>\n",
       "      <td>15.000000</td>\n",
       "      <td>15.000000</td>\n",
       "      <td>18.000000</td>\n",
       "      <td>20.000000</td>\n",
       "      <td>22.000000</td>\n",
       "      <td>24.000000</td>\n",
       "      <td>...</td>\n",
       "      <td>26.000000</td>\n",
       "      <td>26.000000</td>\n",
       "      <td>26.000000</td>\n",
       "      <td>26.000000</td>\n",
       "      <td>26.000000</td>\n",
       "      <td>26.000000</td>\n",
       "      <td>26.000000</td>\n",
       "      <td>26.000000</td>\n",
       "      <td>26.000000</td>\n",
       "      <td>26.000000</td>\n",
       "    </tr>\n",
       "  </tbody>\n",
       "</table>\n",
       "<p>8 rows × 30 columns</p>\n",
       "</div>"
      ],
      "text/plain": [
       "               1988          1989          1990          1991          1992  \\\n",
       "count  13327.000000  13327.000000  13327.000000  13327.000000  13327.000000   \n",
       "mean       0.003076      1.339236      2.899827      5.214152      4.817438   \n",
       "std        0.179397      2.065913      3.086371      3.560047      3.604873   \n",
       "min        0.000000      0.000000      0.000000      0.000000      0.000000   \n",
       "25%        0.000000      0.000000      0.000000      3.000000      0.000000   \n",
       "50%        0.000000      0.000000      3.000000      6.000000      5.000000   \n",
       "75%        0.000000      3.000000      5.000000      8.000000      8.000000   \n",
       "max       12.000000     17.000000     16.000000     17.000000     15.000000   \n",
       "\n",
       "               1993          1994          1995          1996          1997  \\\n",
       "count  13327.000000  13327.000000  13327.000000  13327.000000  13327.000000   \n",
       "mean       7.844676      7.599385      9.419524      8.949351      9.809560   \n",
       "std        3.500482      3.619263      3.498970      3.541300      3.344436   \n",
       "min        0.000000      0.000000      0.000000      0.000000      0.000000   \n",
       "25%        6.000000      5.000000      7.000000      7.000000      8.000000   \n",
       "50%        8.000000      8.000000      9.000000      9.000000     10.000000   \n",
       "75%       10.000000     10.000000     12.000000     11.000000     12.000000   \n",
       "max       15.000000     18.000000     20.000000     22.000000     24.000000   \n",
       "\n",
       "       ...          2008          2009          2010          2011  \\\n",
       "count  ...  13327.000000  13327.000000  13327.000000  13327.000000   \n",
       "mean   ...     10.144369      9.943948      9.458843      9.301493   \n",
       "std    ...      3.516905      3.576768      3.627806      3.765374   \n",
       "min    ...      0.000000      0.000000      0.000000      0.000000   \n",
       "25%    ...      8.000000      8.000000      7.000000      7.000000   \n",
       "50%    ...     10.000000     10.000000     10.000000      9.000000   \n",
       "75%    ...     13.000000     12.000000     12.000000     11.000000   \n",
       "max    ...     26.000000     26.000000     26.000000     26.000000   \n",
       "\n",
       "               2013          2014          2015          2016          2017  \\\n",
       "count  13327.000000  13327.000000  13327.000000  13327.000000  13327.000000   \n",
       "mean       9.293990      8.998724      9.084340      8.697982      8.923013   \n",
       "std        3.689512      3.821538      3.750063      3.669538      3.596017   \n",
       "min        0.000000      0.000000      0.000000      0.000000      0.000000   \n",
       "25%        7.000000      7.000000      7.000000      6.000000      7.000000   \n",
       "50%        9.000000      8.000000      9.000000      8.000000      9.000000   \n",
       "75%       11.000000     11.000000     11.000000     11.000000     11.000000   \n",
       "max       26.000000     26.000000     26.000000     26.000000     26.000000   \n",
       "\n",
       "               2018  \n",
       "count  13327.000000  \n",
       "mean       8.903504  \n",
       "std        3.797318  \n",
       "min        0.000000  \n",
       "25%        7.000000  \n",
       "50%        9.000000  \n",
       "75%       11.000000  \n",
       "max       26.000000  \n",
       "\n",
       "[8 rows x 30 columns]"
      ]
     },
     "execution_count": 7,
     "metadata": {},
     "output_type": "execute_result"
    }
   ],
   "source": [
    "sage.describe()"
   ]
  },
  {
   "cell_type": "code",
   "execution_count": 9,
   "id": "65aea4ed",
   "metadata": {},
   "outputs": [
    {
     "data": {
      "text/html": [
       "<div>\n",
       "<style scoped>\n",
       "    .dataframe tbody tr th:only-of-type {\n",
       "        vertical-align: middle;\n",
       "    }\n",
       "\n",
       "    .dataframe tbody tr th {\n",
       "        vertical-align: top;\n",
       "    }\n",
       "\n",
       "    .dataframe thead th {\n",
       "        text-align: right;\n",
       "    }\n",
       "</style>\n",
       "<table border=\"1\" class=\"dataframe\">\n",
       "  <thead>\n",
       "    <tr style=\"text-align: right;\">\n",
       "      <th></th>\n",
       "      <th>0</th>\n",
       "      <th>1</th>\n",
       "      <th>2</th>\n",
       "      <th>3</th>\n",
       "      <th>4</th>\n",
       "      <th>5</th>\n",
       "      <th>6</th>\n",
       "      <th>7</th>\n",
       "      <th>8</th>\n",
       "      <th>9</th>\n",
       "      <th>...</th>\n",
       "      <th>13317</th>\n",
       "      <th>13318</th>\n",
       "      <th>13319</th>\n",
       "      <th>13320</th>\n",
       "      <th>13321</th>\n",
       "      <th>13322</th>\n",
       "      <th>13323</th>\n",
       "      <th>13324</th>\n",
       "      <th>13325</th>\n",
       "      <th>13326</th>\n",
       "    </tr>\n",
       "  </thead>\n",
       "  <tbody>\n",
       "    <tr>\n",
       "      <th>1988</th>\n",
       "      <td>0</td>\n",
       "      <td>0</td>\n",
       "      <td>0</td>\n",
       "      <td>0</td>\n",
       "      <td>0</td>\n",
       "      <td>0</td>\n",
       "      <td>0</td>\n",
       "      <td>0</td>\n",
       "      <td>0</td>\n",
       "      <td>0</td>\n",
       "      <td>...</td>\n",
       "      <td>0</td>\n",
       "      <td>0</td>\n",
       "      <td>0</td>\n",
       "      <td>0</td>\n",
       "      <td>0</td>\n",
       "      <td>0</td>\n",
       "      <td>0</td>\n",
       "      <td>0</td>\n",
       "      <td>0</td>\n",
       "      <td>0</td>\n",
       "    </tr>\n",
       "    <tr>\n",
       "      <th>1989</th>\n",
       "      <td>5</td>\n",
       "      <td>5</td>\n",
       "      <td>5</td>\n",
       "      <td>5</td>\n",
       "      <td>5</td>\n",
       "      <td>5</td>\n",
       "      <td>5</td>\n",
       "      <td>5</td>\n",
       "      <td>5</td>\n",
       "      <td>5</td>\n",
       "      <td>...</td>\n",
       "      <td>4</td>\n",
       "      <td>4</td>\n",
       "      <td>4</td>\n",
       "      <td>5</td>\n",
       "      <td>5</td>\n",
       "      <td>5</td>\n",
       "      <td>4</td>\n",
       "      <td>5</td>\n",
       "      <td>5</td>\n",
       "      <td>5</td>\n",
       "    </tr>\n",
       "    <tr>\n",
       "      <th>1990</th>\n",
       "      <td>8</td>\n",
       "      <td>8</td>\n",
       "      <td>8</td>\n",
       "      <td>8</td>\n",
       "      <td>8</td>\n",
       "      <td>8</td>\n",
       "      <td>8</td>\n",
       "      <td>8</td>\n",
       "      <td>8</td>\n",
       "      <td>8</td>\n",
       "      <td>...</td>\n",
       "      <td>4</td>\n",
       "      <td>7</td>\n",
       "      <td>5</td>\n",
       "      <td>5</td>\n",
       "      <td>4</td>\n",
       "      <td>7</td>\n",
       "      <td>6</td>\n",
       "      <td>7</td>\n",
       "      <td>8</td>\n",
       "      <td>8</td>\n",
       "    </tr>\n",
       "    <tr>\n",
       "      <th>1991</th>\n",
       "      <td>10</td>\n",
       "      <td>10</td>\n",
       "      <td>10</td>\n",
       "      <td>10</td>\n",
       "      <td>8</td>\n",
       "      <td>10</td>\n",
       "      <td>10</td>\n",
       "      <td>10</td>\n",
       "      <td>10</td>\n",
       "      <td>9</td>\n",
       "      <td>...</td>\n",
       "      <td>7</td>\n",
       "      <td>8</td>\n",
       "      <td>10</td>\n",
       "      <td>7</td>\n",
       "      <td>4</td>\n",
       "      <td>10</td>\n",
       "      <td>10</td>\n",
       "      <td>10</td>\n",
       "      <td>10</td>\n",
       "      <td>10</td>\n",
       "    </tr>\n",
       "    <tr>\n",
       "      <th>1992</th>\n",
       "      <td>9</td>\n",
       "      <td>12</td>\n",
       "      <td>13</td>\n",
       "      <td>13</td>\n",
       "      <td>9</td>\n",
       "      <td>9</td>\n",
       "      <td>10</td>\n",
       "      <td>11</td>\n",
       "      <td>11</td>\n",
       "      <td>8</td>\n",
       "      <td>...</td>\n",
       "      <td>8</td>\n",
       "      <td>7</td>\n",
       "      <td>9</td>\n",
       "      <td>9</td>\n",
       "      <td>11</td>\n",
       "      <td>9</td>\n",
       "      <td>9</td>\n",
       "      <td>10</td>\n",
       "      <td>10</td>\n",
       "      <td>9</td>\n",
       "    </tr>\n",
       "  </tbody>\n",
       "</table>\n",
       "<p>5 rows × 13327 columns</p>\n",
       "</div>"
      ],
      "text/plain": [
       "      0      1      2      3      4      5      6      7      8      9      \\\n",
       "1988      0      0      0      0      0      0      0      0      0      0   \n",
       "1989      5      5      5      5      5      5      5      5      5      5   \n",
       "1990      8      8      8      8      8      8      8      8      8      8   \n",
       "1991     10     10     10     10      8     10     10     10     10      9   \n",
       "1992      9     12     13     13      9      9     10     11     11      8   \n",
       "\n",
       "      ...  13317  13318  13319  13320  13321  13322  13323  13324  13325  \\\n",
       "1988  ...      0      0      0      0      0      0      0      0      0   \n",
       "1989  ...      4      4      4      5      5      5      4      5      5   \n",
       "1990  ...      4      7      5      5      4      7      6      7      8   \n",
       "1991  ...      7      8     10      7      4     10     10     10     10   \n",
       "1992  ...      8      7      9      9     11      9      9     10     10   \n",
       "\n",
       "      13326  \n",
       "1988      0  \n",
       "1989      5  \n",
       "1990      8  \n",
       "1991     10  \n",
       "1992      9  \n",
       "\n",
       "[5 rows x 13327 columns]"
      ]
     },
     "execution_count": 9,
     "metadata": {},
     "output_type": "execute_result"
    }
   ],
   "source": [
    "sage1=sage.T\n",
    "#print(sage1)\n",
    "sage1.head()"
   ]
  },
  {
   "cell_type": "code",
   "execution_count": 10,
   "id": "bafb2fdb",
   "metadata": {},
   "outputs": [
    {
     "data": {
      "text/plain": [
       "0        13.333333\n",
       "1        15.100000\n",
       "2        20.633333\n",
       "3        21.000000\n",
       "4        12.266667\n",
       "           ...    \n",
       "13322     9.733333\n",
       "13323    11.733333\n",
       "13324     9.333333\n",
       "13325     9.500000\n",
       "13326    11.800000\n",
       "Length: 13327, dtype: float64"
      ]
     },
     "execution_count": 10,
     "metadata": {},
     "output_type": "execute_result"
    }
   ],
   "source": [
    "sage1.mean(axis=0)"
   ]
  },
  {
   "cell_type": "code",
   "execution_count": 193,
   "id": "d5aa7eb0",
   "metadata": {},
   "outputs": [],
   "source": [
    "sage1['year_mean'] = sage1.mean(axis=1)\n",
    "#sage1\n"
   ]
  },
  {
   "cell_type": "markdown",
   "id": "e6d448bb",
   "metadata": {},
   "source": [
    "# Data processing"
   ]
  },
  {
   "cell_type": "code",
   "execution_count": 14,
   "id": "11185b79",
   "metadata": {},
   "outputs": [],
   "source": [
    "# The columns in the spreadsheet represent patches \n",
    "#rows represent sagebrush abundance "
   ]
  },
  {
   "cell_type": "code",
   "execution_count": 53,
   "id": "7d5352e3",
   "metadata": {},
   "outputs": [],
   "source": [
    "#sage2 = sage1.rename (columns ={'' : 'year'})"
   ]
  },
  {
   "cell_type": "code",
   "execution_count": 13,
   "id": "4daa4848",
   "metadata": {},
   "outputs": [],
   "source": [
    "\n",
    "sage_data =sage1[['year_mean']]\n",
    "#sage_data.drop(sage_data.index[30],inplace= True)\n",
    "#sage_data.reset_index(inplace=True)\n",
    "#sage_data = sage_data.rename(columns = {'index':'year'})"
   ]
  },
  {
   "cell_type": "code",
   "execution_count": 14,
   "id": "9d3401e9",
   "metadata": {},
   "outputs": [
    {
     "data": {
      "text/html": [
       "<div>\n",
       "<style scoped>\n",
       "    .dataframe tbody tr th:only-of-type {\n",
       "        vertical-align: middle;\n",
       "    }\n",
       "\n",
       "    .dataframe tbody tr th {\n",
       "        vertical-align: top;\n",
       "    }\n",
       "\n",
       "    .dataframe thead th {\n",
       "        text-align: right;\n",
       "    }\n",
       "</style>\n",
       "<table border=\"1\" class=\"dataframe\">\n",
       "  <thead>\n",
       "    <tr style=\"text-align: right;\">\n",
       "      <th></th>\n",
       "      <th>year_mean</th>\n",
       "    </tr>\n",
       "  </thead>\n",
       "  <tbody>\n",
       "    <tr>\n",
       "      <th>1988</th>\n",
       "      <td>0.003076</td>\n",
       "    </tr>\n",
       "    <tr>\n",
       "      <th>1989</th>\n",
       "      <td>1.339236</td>\n",
       "    </tr>\n",
       "    <tr>\n",
       "      <th>1990</th>\n",
       "      <td>2.899827</td>\n",
       "    </tr>\n",
       "    <tr>\n",
       "      <th>1991</th>\n",
       "      <td>5.214152</td>\n",
       "    </tr>\n",
       "    <tr>\n",
       "      <th>1992</th>\n",
       "      <td>4.817438</td>\n",
       "    </tr>\n",
       "  </tbody>\n",
       "</table>\n",
       "</div>"
      ],
      "text/plain": [
       "      year_mean\n",
       "1988   0.003076\n",
       "1989   1.339236\n",
       "1990   2.899827\n",
       "1991   5.214152\n",
       "1992   4.817438"
      ]
     },
     "execution_count": 14,
     "metadata": {},
     "output_type": "execute_result"
    }
   ],
   "source": [
    "sage_data.head()\n"
   ]
  },
  {
   "cell_type": "code",
   "execution_count": 15,
   "id": "4e8e73c3",
   "metadata": {},
   "outputs": [
    {
     "data": {
      "text/html": [
       "<div>\n",
       "<style scoped>\n",
       "    .dataframe tbody tr th:only-of-type {\n",
       "        vertical-align: middle;\n",
       "    }\n",
       "\n",
       "    .dataframe tbody tr th {\n",
       "        vertical-align: top;\n",
       "    }\n",
       "\n",
       "    .dataframe thead th {\n",
       "        text-align: right;\n",
       "    }\n",
       "</style>\n",
       "<table border=\"1\" class=\"dataframe\">\n",
       "  <thead>\n",
       "    <tr style=\"text-align: right;\">\n",
       "      <th></th>\n",
       "      <th>year</th>\n",
       "      <th>year_mean</th>\n",
       "    </tr>\n",
       "  </thead>\n",
       "  <tbody>\n",
       "    <tr>\n",
       "      <th>0</th>\n",
       "      <td>1988</td>\n",
       "      <td>0.003076</td>\n",
       "    </tr>\n",
       "    <tr>\n",
       "      <th>1</th>\n",
       "      <td>1989</td>\n",
       "      <td>1.339236</td>\n",
       "    </tr>\n",
       "    <tr>\n",
       "      <th>2</th>\n",
       "      <td>1990</td>\n",
       "      <td>2.899827</td>\n",
       "    </tr>\n",
       "    <tr>\n",
       "      <th>3</th>\n",
       "      <td>1991</td>\n",
       "      <td>5.214152</td>\n",
       "    </tr>\n",
       "    <tr>\n",
       "      <th>4</th>\n",
       "      <td>1992</td>\n",
       "      <td>4.817438</td>\n",
       "    </tr>\n",
       "  </tbody>\n",
       "</table>\n",
       "</div>"
      ],
      "text/plain": [
       "   year  year_mean\n",
       "0  1988   0.003076\n",
       "1  1989   1.339236\n",
       "2  1990   2.899827\n",
       "3  1991   5.214152\n",
       "4  1992   4.817438"
      ]
     },
     "execution_count": 15,
     "metadata": {},
     "output_type": "execute_result"
    }
   ],
   "source": [
    "sage_data.reset_index(inplace=True)\n",
    "sage_data = sage_data.rename(columns = {'index':'year'})\n",
    "#sage_data.drop([\"level_0\"], axis=1,inplace=True)\n",
    "#sage_data.drop([\"year\"], axis=1,inplace=True)\n",
    "sage_data.head()"
   ]
  },
  {
   "cell_type": "code",
   "execution_count": 20,
   "id": "8c4dae28",
   "metadata": {},
   "outputs": [
    {
     "data": {
      "image/png": "[encoded data removed]",
      "text/plain": [
       "<Figure size 432x288 with 1 Axes>"
      ]
     },
     "metadata": {
      "needs_background": "light"
     },
     "output_type": "display_data"
    }
   ],
   "source": [
    "sage_data['year_mean'].hist()\n",
    "plt.show()"
   ]
  },
  {
   "cell_type": "code",
   "execution_count": 48,
   "id": "640c83c9",
   "metadata": {},
   "outputs": [
    {
     "data": {
      "image/png": "[encoded data removed]",
      "text/plain": [
       "<Figure size 432x288 with 1 Axes>"
      ]
     },
     "metadata": {
      "needs_background": "light"
     },
     "output_type": "display_data"
    }
   ],
   "source": [
    "sage_data['year_mean'].plot();"
   ]
  },
  {
   "cell_type": "code",
   "execution_count": 13,
   "id": "a681efee",
   "metadata": {},
   "outputs": [
    {
     "data": {
      "image/png": "[encoded data removed]",
      "text/plain": [
       "<Figure size 432x288 with 1 Axes>"
      ]
     },
     "metadata": {
      "needs_background": "light"
     },
     "output_type": "display_data"
    }
   ],
   "source": [
    "plt.xlabel('year')\n",
    "plt.ylabel('year_mean')\n",
    "plt.plot(sage_data['year_mean']);"
   ]
  },
  {
   "cell_type": "code",
   "execution_count": 16,
   "id": "36d217f8",
   "metadata": {},
   "outputs": [
    {
     "data": {
      "text/html": [
       "<div>\n",
       "<style scoped>\n",
       "    .dataframe tbody tr th:only-of-type {\n",
       "        vertical-align: middle;\n",
       "    }\n",
       "\n",
       "    .dataframe tbody tr th {\n",
       "        vertical-align: top;\n",
       "    }\n",
       "\n",
       "    .dataframe thead th {\n",
       "        text-align: right;\n",
       "    }\n",
       "</style>\n",
       "<table border=\"1\" class=\"dataframe\">\n",
       "  <thead>\n",
       "    <tr style=\"text-align: right;\">\n",
       "      <th></th>\n",
       "      <th>year</th>\n",
       "      <th>year_mean</th>\n",
       "    </tr>\n",
       "  </thead>\n",
       "  <tbody>\n",
       "    <tr>\n",
       "      <th>0</th>\n",
       "      <td>1988-01-01</td>\n",
       "      <td>0.003076</td>\n",
       "    </tr>\n",
       "    <tr>\n",
       "      <th>1</th>\n",
       "      <td>1989-01-01</td>\n",
       "      <td>1.339236</td>\n",
       "    </tr>\n",
       "    <tr>\n",
       "      <th>2</th>\n",
       "      <td>1990-01-01</td>\n",
       "      <td>2.899827</td>\n",
       "    </tr>\n",
       "    <tr>\n",
       "      <th>3</th>\n",
       "      <td>1991-01-01</td>\n",
       "      <td>5.214152</td>\n",
       "    </tr>\n",
       "    <tr>\n",
       "      <th>4</th>\n",
       "      <td>1992-01-01</td>\n",
       "      <td>4.817438</td>\n",
       "    </tr>\n",
       "  </tbody>\n",
       "</table>\n",
       "</div>"
      ],
      "text/plain": [
       "        year  year_mean\n",
       "0 1988-01-01   0.003076\n",
       "1 1989-01-01   1.339236\n",
       "2 1990-01-01   2.899827\n",
       "3 1991-01-01   5.214152\n",
       "4 1992-01-01   4.817438"
      ]
     },
     "execution_count": 16,
     "metadata": {},
     "output_type": "execute_result"
    }
   ],
   "source": [
    "# Changing the time to date - Most Time Series Models require date structure\n",
    "sage_data['year'] = sage_data['year'].astype(str) + '-01-01'\n",
    "sage_data['year'] = pd.to_datetime(sage_data['year'])\n",
    "sage_data.head()\n"
   ]
  },
  {
   "cell_type": "code",
   "execution_count": 16,
   "id": "5fb6fbf2",
   "metadata": {},
   "outputs": [
    {
     "data": {
      "text/html": [
       "<div>\n",
       "<style scoped>\n",
       "    .dataframe tbody tr th:only-of-type {\n",
       "        vertical-align: middle;\n",
       "    }\n",
       "\n",
       "    .dataframe tbody tr th {\n",
       "        vertical-align: top;\n",
       "    }\n",
       "\n",
       "    .dataframe thead th {\n",
       "        text-align: right;\n",
       "    }\n",
       "</style>\n",
       "<table border=\"1\" class=\"dataframe\">\n",
       "  <thead>\n",
       "    <tr style=\"text-align: right;\">\n",
       "      <th></th>\n",
       "      <th>year_mean</th>\n",
       "    </tr>\n",
       "  </thead>\n",
       "  <tbody>\n",
       "    <tr>\n",
       "      <th>0</th>\n",
       "      <td>0.003076</td>\n",
       "    </tr>\n",
       "    <tr>\n",
       "      <th>1</th>\n",
       "      <td>1.339236</td>\n",
       "    </tr>\n",
       "    <tr>\n",
       "      <th>2</th>\n",
       "      <td>2.899827</td>\n",
       "    </tr>\n",
       "    <tr>\n",
       "      <th>3</th>\n",
       "      <td>5.214152</td>\n",
       "    </tr>\n",
       "    <tr>\n",
       "      <th>4</th>\n",
       "      <td>4.817438</td>\n",
       "    </tr>\n",
       "  </tbody>\n",
       "</table>\n",
       "</div>"
      ],
      "text/plain": [
       "   year_mean\n",
       "0   0.003076\n",
       "1   1.339236\n",
       "2   2.899827\n",
       "3   5.214152\n",
       "4   4.817438"
      ]
     },
     "execution_count": 16,
     "metadata": {},
     "output_type": "execute_result"
    }
   ],
   "source": [
    "#sage_data.reset_index(drop=True, inplace=True)\n",
    "sage_data.head()"
   ]
  },
  {
   "cell_type": "raw",
   "id": "f1ab2d8c",
   "metadata": {},
   "source": [
    "rolling mean"
   ]
  },
  {
   "cell_type": "code",
   "execution_count": 58,
   "id": "6ce74d4b",
   "metadata": {},
   "outputs": [],
   "source": [
    "rolmean=sage_data.rolling(window=2).mean()\n",
    "rolstd=sage_data.rolling(window=2).std()"
   ]
  },
  {
   "cell_type": "code",
   "execution_count": 59,
   "id": "9bd82fc8",
   "metadata": {},
   "outputs": [],
   "source": [
    "#print(rolmean,rolstd)\n"
   ]
  },
  {
   "cell_type": "code",
   "execution_count": 60,
   "id": "6c74f6b0",
   "metadata": {},
   "outputs": [
    {
     "data": {
      "image/png": "[encoded data removed]",
      "text/plain": [
       "<Figure size 432x288 with 1 Axes>"
      ]
     },
     "metadata": {
      "needs_background": "light"
     },
     "output_type": "display_data"
    }
   ],
   "source": [
    "orig = plt.plot(sage_data['year_mean'], color = 'blue',label ='original')\n",
    "rmn = plt.plot(rolmean, color = 'green',label ='rollingmean')\n",
    "rstd = plt.plot(rolstd, color = 'black',label ='rollingstd')\n",
    "plt.show(block=False)"
   ]
  },
  {
   "cell_type": "markdown",
   "id": "5fe77732",
   "metadata": {},
   "source": [
    "not stationary"
   ]
  },
  {
   "cell_type": "code",
   "execution_count": 126,
   "id": "de616824",
   "metadata": {},
   "outputs": [],
   "source": [
    "#pip install statsmodels\n"
   ]
  },
  {
   "cell_type": "code",
   "execution_count": 42,
   "id": "c70bfdeb",
   "metadata": {},
   "outputs": [
    {
     "data": {
      "text/html": [
       "<div>\n",
       "<style scoped>\n",
       "    .dataframe tbody tr th:only-of-type {\n",
       "        vertical-align: middle;\n",
       "    }\n",
       "\n",
       "    .dataframe tbody tr th {\n",
       "        vertical-align: top;\n",
       "    }\n",
       "\n",
       "    .dataframe thead th {\n",
       "        text-align: right;\n",
       "    }\n",
       "</style>\n",
       "<table border=\"1\" class=\"dataframe\">\n",
       "  <thead>\n",
       "    <tr style=\"text-align: right;\">\n",
       "      <th></th>\n",
       "      <th>year</th>\n",
       "      <th>year_mean</th>\n",
       "    </tr>\n",
       "  </thead>\n",
       "  <tbody>\n",
       "    <tr>\n",
       "      <th>0</th>\n",
       "      <td>1988-01-01</td>\n",
       "      <td>0.003076</td>\n",
       "    </tr>\n",
       "    <tr>\n",
       "      <th>1</th>\n",
       "      <td>1989-01-01</td>\n",
       "      <td>1.339236</td>\n",
       "    </tr>\n",
       "    <tr>\n",
       "      <th>2</th>\n",
       "      <td>1990-01-01</td>\n",
       "      <td>2.899827</td>\n",
       "    </tr>\n",
       "    <tr>\n",
       "      <th>3</th>\n",
       "      <td>1991-01-01</td>\n",
       "      <td>5.214152</td>\n",
       "    </tr>\n",
       "    <tr>\n",
       "      <th>4</th>\n",
       "      <td>1992-01-01</td>\n",
       "      <td>4.817438</td>\n",
       "    </tr>\n",
       "  </tbody>\n",
       "</table>\n",
       "</div>"
      ],
      "text/plain": [
       "        year  year_mean\n",
       "0 1988-01-01   0.003076\n",
       "1 1989-01-01   1.339236\n",
       "2 1990-01-01   2.899827\n",
       "3 1991-01-01   5.214152\n",
       "4 1992-01-01   4.817438"
      ]
     },
     "execution_count": 42,
     "metadata": {},
     "output_type": "execute_result"
    }
   ],
   "source": [
    "from statsmodels.tsa.stattools import adfuller\n",
    "sage_data.head()"
   ]
  },
  {
   "cell_type": "code",
   "execution_count": 34,
   "id": "63063043",
   "metadata": {},
   "outputs": [],
   "source": [
    "#meand and std is not constant so data is non-stationary"
   ]
  },
  {
   "cell_type": "code",
   "execution_count": 124,
   "id": "5637a855",
   "metadata": {},
   "outputs": [
    {
     "data": {
      "text/plain": [
       "<AxesSubplot:>"
      ]
     },
     "execution_count": 124,
     "metadata": {},
     "output_type": "execute_result"
    },
    {
     "data": {
      "image/png": "[encoded data removed]",
      "text/plain": [
       "<Figure size 432x288 with 1 Axes>"
      ]
     },
     "metadata": {
      "needs_background": "light"
     },
     "output_type": "display_data"
    }
   ],
   "source": [
    "#estimating trend\n",
    "\n",
    "trans_sage = sage_data.diff().dropna()\n",
    "trans_sage[\"year_mean\"].plot()\n",
    "\n",
    "\n"
   ]
  },
  {
   "cell_type": "code",
   "execution_count": 79,
   "id": "a2f85c46",
   "metadata": {},
   "outputs": [
    {
     "name": "stdout",
     "output_type": "stream",
     "text": [
      "Results of Dickey-Fuller Test:\n",
      "Test Statistic                -5.724032e+00\n",
      "p-value                        6.836647e-07\n",
      "#Lags Used                     0.000000e+00\n",
      "Number of Observations Used    2.800000e+01\n",
      "Critical Value (1%)           -3.688926e+00\n",
      "Critical Value (5%)           -2.971989e+00\n",
      "Critical Value (10%)          -2.625296e+00\n",
      "dtype: float64\n"
     ]
    }
   ],
   "source": [
    "#define function for ADF test\n",
    "from statsmodels.tsa.stattools import adfuller\n",
    "def adf_test(timeseries):\n",
    "    #Perform Dickey-Fuller test:\n",
    "    print ('Results of Dickey-Fuller Test:')\n",
    "    dftest = adfuller(timeseries, autolag='AIC')\n",
    "    dfoutput = pd.Series(dftest[0:4], index=['Test Statistic','p-value','#Lags Used','Number of Observations Used'])\n",
    "    for key,value in dftest[4].items():\n",
    "       dfoutput['Critical Value (%s)'%key] = value\n",
    "    print (dfoutput)\n",
    "\n",
    "#apply adf test on the series\n",
    "adf_test(trans_sage['year_mean'])"
   ]
  },
  {
   "cell_type": "code",
   "execution_count": 91,
   "id": "b1bc29cd",
   "metadata": {},
   "outputs": [],
   "source": [
    "#pip install pmdarima\n",
    "from statsmodels.tsa.stattools import acf, pacf\n",
    "from statsmodels.graphics.tsaplots import plot_acf, plot_pacf\n",
    "from PIL import Image"
   ]
  },
  {
   "cell_type": "raw",
   "id": "f9477348",
   "metadata": {},
   "source": [
    "test statistic < critical value, which implies that the data is now stationary."
   ]
  },
  {
   "cell_type": "code",
   "execution_count": 127,
   "id": "e5203d44",
   "metadata": {},
   "outputs": [
    {
     "data": {
      "image/png": "[encoded data removed]",
      "text/plain": [
       "<Figure size 1440x840 with 4 Axes>"
      ]
     },
     "metadata": {
      "needs_background": "light"
     },
     "output_type": "display_data"
    }
   ],
   "source": [
    "plt.rcParams.update({'figure.figsize':(12,7), 'figure.dpi':120})\n",
    "# Original Series\n",
    "fig, axes = plt.subplots(2, 2)\n",
    "axes[0, 0].plot(sage_data[\"year_mean\"]); \n",
    "axes[0, 0].set_title('Original data')\n",
    "plot_acf(sage_data[\"year_mean\"], ax=axes[0, 1])\n",
    "\n",
    "\n",
    "# 1st Differencing\n",
    "axes[1, 0].plot(trans_sage[\"year_mean\"]); \n",
    "axes[1, 0].set_title('1st Order Differencing')\n",
    "plot_acf(trans_sage[\"year_mean\"], ax=axes[1, 1])\n",
    "\n",
    "plt.show()"
   ]
  },
  {
   "cell_type": "markdown",
   "id": "98b82315",
   "metadata": {},
   "source": [
    "####################################### Running ARIMA  #####################################\n",
    "######################################################################################################"
   ]
  },
  {
   "cell_type": "raw",
   "id": "4adc96ce",
   "metadata": {},
   "source": [
    "Running Arima (Autoregressive Integrated Moving Average) \n",
    "ARIMA:\n",
    "\n",
    "Uses a number of lagged observations of time series to forecast observations\n",
    "Inputs / Parameters:\n",
    "\n",
    "p: the number of lag observations in the model; also known as the lag order (AR)\n",
    "\n",
    "d: the number of times that the raw observations are differenced; also known as the degree of differencing (I)\n",
    "d=1\n",
    "\n",
    "q: the size of the moving average window; also known as the order of the moving average (MA)\n",
    "q=2"
   ]
  },
  {
   "cell_type": "code",
   "execution_count": 86,
   "id": "c230d60d",
   "metadata": {},
   "outputs": [
    {
     "data": {
      "text/plain": [
       "1"
      ]
     },
     "execution_count": 86,
     "metadata": {},
     "output_type": "execute_result"
    }
   ],
   "source": [
    "ndiffs(trans_sage['year_mean'], test='adf')\n",
    "#here d=1\n",
    "#To determine p, we need to look at PACF plot"
   ]
  },
  {
   "cell_type": "code",
   "execution_count": 69,
   "id": "50f1097b",
   "metadata": {},
   "outputs": [],
   "source": [
    " #To determine p, we need to look at PACF plot"
   ]
  },
  {
   "cell_type": "code",
   "execution_count": 102,
   "id": "35e0f136",
   "metadata": {},
   "outputs": [
    {
     "data": {
      "image/png": "[encoded data removed]",
      "text/plain": [
       "<Figure size 1440x840 with 1 Axes>"
      ]
     },
     "metadata": {
      "needs_background": "light"
     },
     "output_type": "display_data"
    }
   ],
   "source": [
    "\n",
    "plot_pacf(trans_sage, lags=12)\n",
    "plt.show()"
   ]
  },
  {
   "cell_type": "code",
   "execution_count": 119,
   "id": "e8ec78e3",
   "metadata": {},
   "outputs": [
    {
     "name": "stdout",
     "output_type": "stream",
     "text": [
      "Performing stepwise search to minimize aic\n",
      " ARIMA(2,2,2)(0,0,0)[0]             : AIC=65.164, Time=0.06 sec\n",
      " ARIMA(0,2,0)(0,0,0)[0]             : AIC=98.510, Time=0.01 sec\n",
      " ARIMA(1,2,0)(0,0,0)[0]             : AIC=65.002, Time=0.01 sec\n",
      " ARIMA(0,2,1)(0,0,0)[0]             : AIC=77.151, Time=0.02 sec\n",
      " ARIMA(2,2,0)(0,0,0)[0]             : AIC=61.849, Time=0.01 sec\n",
      " ARIMA(3,2,0)(0,0,0)[0]             : AIC=63.767, Time=0.02 sec\n",
      " ARIMA(2,2,1)(0,0,0)[0]             : AIC=63.653, Time=0.03 sec\n",
      " ARIMA(1,2,1)(0,0,0)[0]             : AIC=62.969, Time=0.02 sec\n",
      " ARIMA(3,2,1)(0,0,0)[0]             : AIC=65.516, Time=0.04 sec\n",
      " ARIMA(2,2,0)(0,0,0)[0] intercept   : AIC=62.194, Time=0.02 sec\n",
      "\n",
      "Best model:  ARIMA(2,2,0)(0,0,0)[0]          \n",
      "Total fit time: 0.241 seconds\n"
     ]
    }
   ],
   "source": [
    "from pmdarima import auto_arima\n",
    "stepwise_fit = auto_arima(sage_data['year_mean'], trace=True,suppress_warnings=True)"
   ]
  },
  {
   "cell_type": "markdown",
   "id": "7728948b",
   "metadata": {},
   "source": [
    "# Splitting  Dataset"
   ]
  },
  {
   "cell_type": "code",
   "execution_count": 93,
   "id": "13a70392",
   "metadata": {},
   "outputs": [
    {
     "name": "stdout",
     "output_type": "stream",
     "text": [
      "(30, 2)\n",
      "(20, 2) (10, 2)\n"
     ]
    }
   ],
   "source": [
    "print(sage_data.shape)\n",
    "train=sage_data.iloc[:-10]\n",
    "test=sage_data.iloc[-10:]\n",
    "print(train.shape,test.shape)"
   ]
  },
  {
   "cell_type": "code",
   "execution_count": 48,
   "id": "4ff31e62",
   "metadata": {},
   "outputs": [],
   "source": [
    "#pip install statsmodels==0.11.0rc1\n"
   ]
  },
  {
   "cell_type": "code",
   "execution_count": 120,
   "id": "e3efc08c",
   "metadata": {},
   "outputs": [
    {
     "data": {
      "text/html": [
       "<table class=\"simpletable\">\n",
       "<caption>ARIMA Model Results</caption>\n",
       "<tr>\n",
       "  <th>Dep. Variable:</th>   <td>D2.year_mean</td>   <th>  No. Observations:  </th>   <td>18</td>   \n",
       "</tr>\n",
       "<tr>\n",
       "  <th>Model:</th>          <td>ARIMA(2, 2, 0)</td>  <th>  Log Likelihood     </th> <td>-19.906</td>\n",
       "</tr>\n",
       "<tr>\n",
       "  <th>Method:</th>             <td>css-mle</td>     <th>  S.D. of innovations</th>  <td>0.691</td> \n",
       "</tr>\n",
       "<tr>\n",
       "  <th>Date:</th>          <td>Sun, 30 Jan 2022</td> <th>  AIC                </th> <td>47.812</td> \n",
       "</tr>\n",
       "<tr>\n",
       "  <th>Time:</th>              <td>20:48:30</td>     <th>  BIC                </th> <td>51.373</td> \n",
       "</tr>\n",
       "<tr>\n",
       "  <th>Sample:</th>                <td>2</td>        <th>  HQIC               </th> <td>48.303</td> \n",
       "</tr>\n",
       "<tr>\n",
       "  <th></th>                       <td> </td>        <th>                     </th>    <td> </td>   \n",
       "</tr>\n",
       "</table>\n",
       "<table class=\"simpletable\">\n",
       "<tr>\n",
       "           <td></td>             <th>coef</th>     <th>std err</th>      <th>z</th>      <th>P>|z|</th>  <th>[0.025</th>    <th>0.975]</th>  \n",
       "</tr>\n",
       "<tr>\n",
       "  <th>const</th>              <td>   -0.0797</td> <td>    0.060</td> <td>   -1.321</td> <td> 0.186</td> <td>   -0.198</td> <td>    0.039</td>\n",
       "</tr>\n",
       "<tr>\n",
       "  <th>ar.L1.D2.year_mean</th> <td>   -1.3170</td> <td>    0.197</td> <td>   -6.677</td> <td> 0.000</td> <td>   -1.704</td> <td>   -0.930</td>\n",
       "</tr>\n",
       "<tr>\n",
       "  <th>ar.L2.D2.year_mean</th> <td>   -0.5274</td> <td>    0.194</td> <td>   -2.713</td> <td> 0.007</td> <td>   -0.908</td> <td>   -0.146</td>\n",
       "</tr>\n",
       "</table>\n",
       "<table class=\"simpletable\">\n",
       "<caption>Roots</caption>\n",
       "<tr>\n",
       "    <td></td>   <th>            Real</th>  <th>         Imaginary</th> <th>         Modulus</th>  <th>        Frequency</th>\n",
       "</tr>\n",
       "<tr>\n",
       "  <th>AR.1</th> <td>          -1.2486</td> <td>          -0.5806j</td> <td>           1.3770</td> <td>          -0.4307</td>\n",
       "</tr>\n",
       "<tr>\n",
       "  <th>AR.2</th> <td>          -1.2486</td> <td>          +0.5806j</td> <td>           1.3770</td> <td>           0.4307</td>\n",
       "</tr>\n",
       "</table>"
      ],
      "text/plain": [
       "<class 'statsmodels.iolib.summary.Summary'>\n",
       "\"\"\"\n",
       "                             ARIMA Model Results                              \n",
       "==============================================================================\n",
       "Dep. Variable:           D2.year_mean   No. Observations:                   18\n",
       "Model:                 ARIMA(2, 2, 0)   Log Likelihood                 -19.906\n",
       "Method:                       css-mle   S.D. of innovations              0.691\n",
       "Date:                Sun, 30 Jan 2022   AIC                             47.812\n",
       "Time:                        20:48:30   BIC                             51.373\n",
       "Sample:                             2   HQIC                            48.303\n",
       "                                                                              \n",
       "======================================================================================\n",
       "                         coef    std err          z      P>|z|      [0.025      0.975]\n",
       "--------------------------------------------------------------------------------------\n",
       "const                 -0.0797      0.060     -1.321      0.186      -0.198       0.039\n",
       "ar.L1.D2.year_mean    -1.3170      0.197     -6.677      0.000      -1.704      -0.930\n",
       "ar.L2.D2.year_mean    -0.5274      0.194     -2.713      0.007      -0.908      -0.146\n",
       "                                    Roots                                    \n",
       "=============================================================================\n",
       "                  Real          Imaginary           Modulus         Frequency\n",
       "-----------------------------------------------------------------------------\n",
       "AR.1           -1.2486           -0.5806j            1.3770           -0.4307\n",
       "AR.2           -1.2486           +0.5806j            1.3770            0.4307\n",
       "-----------------------------------------------------------------------------\n",
       "\"\"\""
      ]
     },
     "execution_count": 120,
     "metadata": {},
     "output_type": "execute_result"
    }
   ],
   "source": [
    "from statsmodels.tsa.arima_model import ARIMA\n",
    "\n",
    "from numpy.linalg import LinAlgError\n",
    "\n",
    "model=ARIMA(train['year_mean'],order=(2,2,0))\n",
    "model=model.fit()\n",
    "model.summary()"
   ]
  },
  {
   "cell_type": "markdown",
   "id": "e5d40209",
   "metadata": {},
   "source": [
    "# Check How Good Your Model Is"
   ]
  },
  {
   "cell_type": "code",
   "execution_count": 75,
   "id": "4bfa9b52",
   "metadata": {},
   "outputs": [
    {
     "data": {
      "image/png": "[encoded data removed]",
      "text/plain": [
       "<Figure size 432x288 with 2 Axes>"
      ]
     },
     "metadata": {
      "needs_background": "light"
     },
     "output_type": "display_data"
    }
   ],
   "source": [
    "# Plot residual errors\n",
    "residuals = pd.DataFrame(model.resid)\n",
    "fig, ax = plt.subplots(1,2)\n",
    "residuals.plot(title=\"Residuals\", ax=ax[0])\n",
    "residuals.plot(kind='kde', title='Density', ax=ax[1])\n",
    "plt.show()"
   ]
  },
  {
   "cell_type": "code",
   "execution_count": 171,
   "id": "c0b9e6ed",
   "metadata": {},
   "outputs": [
    {
     "data": {
      "text/plain": [
       "1     0.568382\n",
       "2     0.749205\n",
       "3     1.241675\n",
       "4    -1.514572\n",
       "5     0.865193\n",
       "6    -0.889316\n",
       "7     0.277043\n",
       "8    -1.136288\n",
       "9    -0.435442\n",
       "10   -0.070731\n",
       "11   -0.328169\n",
       "12   -0.289525\n",
       "13   -0.711988\n",
       "14   -1.061910\n",
       "15    0.692968\n",
       "16    0.179993\n",
       "17    0.350293\n",
       "18   -0.155037\n",
       "19    0.198125\n",
       "Name: 0, dtype: float64"
      ]
     },
     "execution_count": 171,
     "metadata": {},
     "output_type": "execute_result"
    }
   ],
   "source": [
    "residuals[0]"
   ]
  },
  {
   "cell_type": "code",
   "execution_count": 172,
   "id": "2cf054e4",
   "metadata": {},
   "outputs": [
    {
     "data": {
      "image/png": "[encoded data removed]",
      "text/plain": [
       "<Figure size 1440x840 with 1 Axes>"
      ]
     },
     "metadata": {
      "needs_background": "light"
     },
     "output_type": "display_data"
    }
   ],
   "source": [
    "sps.probplot(residuals[0], plot = plt)\n",
    "plt.show()"
   ]
  },
  {
   "cell_type": "code",
   "execution_count": 90,
   "id": "0628d603",
   "metadata": {},
   "outputs": [
    {
     "name": "stdout",
     "output_type": "stream",
     "text": [
      "               0\n",
      "count  19.000000\n",
      "mean   -0.077374\n",
      "std     0.753988\n",
      "min    -1.514572\n",
      "25%    -0.573715\n",
      "50%    -0.070731\n",
      "75%     0.459337\n",
      "max     1.241675\n"
     ]
    }
   ],
   "source": [
    "print(residuals.describe())"
   ]
  },
  {
   "cell_type": "code",
   "execution_count": 76,
   "id": "aeef998e",
   "metadata": {},
   "outputs": [
    {
     "data": {
      "image/png": "[encoded data removed]",
      "text/plain": [
       "<Figure size 432x288 with 1 Axes>"
      ]
     },
     "metadata": {
      "needs_background": "light"
     },
     "output_type": "display_data"
    }
   ],
   "source": [
    "# Actual vs Fitted\n",
    "model.plot_predict(dynamic=False)\n",
    "plt.show()\n"
   ]
  },
  {
   "cell_type": "code",
   "execution_count": 192,
   "id": "4e03611e",
   "metadata": {},
   "outputs": [
    {
     "data": {
      "image/png": "[encoded data removed]",
      "text/plain": [
       "<Figure size 1800x900 with 1 Axes>"
      ]
     },
     "metadata": {
      "needs_background": "light"
     },
     "output_type": "display_data"
    }
   ],
   "source": [
    "\n",
    "model=ARIMA(train['year_mean'],order=(2,2,0)) \n",
    "fitted = model.fit(disp=-1) \n",
    "\n",
    "fc, se, conf = fitted.forecast(10, alpha=0.05)  # 95% conf\n",
    "\n",
    "# Make as pandas series\n",
    "fc_series = pd.Series(fc, index=test.index)\n",
    "lower_series = pd.Series(conf[:, 0], index=test.index)\n",
    "upper_series = pd.Series(conf[:, 1], index=test.index)\n",
    "\n",
    "\n",
    "# Plot\n",
    "plt.figure(figsize=(18,9), dpi=100)\n",
    "plt.plot(train['year_mean'], label='training')\n",
    "plt.plot(test['year_mean'], label='actual')\n",
    "plt.plot(fc_series, label='forecast')\n",
    "plt.fill_between(lower_series.index, lower_series, upper_series, \n",
    "                 color='k', alpha=.15)\n",
    "plt.title('Forecast vs Actuals')\n",
    "plt.legend(loc='upper left', fontsize=8)\n",
    "plt.show()"
   ]
  },
  {
   "cell_type": "code",
   "execution_count": 186,
   "id": "b0dd7ab9",
   "metadata": {},
   "outputs": [
    {
     "data": {
      "text/plain": [
       "{'mape': 0.05742567262152963,\n",
       " 'me': 0.20236394369805027,\n",
       " 'mae': 0.529555831167329,\n",
       " 'mpe': 0.021670600851106708,\n",
       " 'rmse': 0.5704311340298801,\n",
       " 'acf1': 0.4676556036819145,\n",
       " 'corr': 0.6596890501832764,\n",
       " 'minmax': 0.055071969502771934}"
      ]
     },
     "execution_count": 186,
     "metadata": {},
     "output_type": "execute_result"
    }
   ],
   "source": [
    "# Accuracy metrics\n",
    "def forecast_accuracy(forecast, actual):\n",
    "    mape = np.mean(np.abs(forecast - actual)/np.abs(actual))  # MAPE\n",
    "    me = np.mean(forecast - actual)             # ME\n",
    "    mae = np.mean(np.abs(forecast - actual))    # MAE\n",
    "    mpe = np.mean((forecast - actual)/actual)   # MPE\n",
    "    rmse = np.mean((forecast - actual)**2)**.5  # RMSE\n",
    "    corr = np.corrcoef(forecast, actual)[0,1]   # corr\n",
    "    mins = np.amin(np.hstack([forecast[:,None], \n",
    "                              actual[:,None]]), axis=1)\n",
    "    maxs = np.amax(np.hstack([forecast[:,None], \n",
    "                              actual[:,None]]), axis=1)\n",
    "    minmax = 1 - np.mean(mins/maxs)             # minmax\n",
    "    acf1 = acf(fc-actual)[1]                      # ACF1\n",
    "    return({'mape':mape, 'me':me, 'mae': mae, 'mpe': mpe, 'rmse':rmse, 'acf1':acf1, 'corr':corr, 'minmax':minmax})\n",
    "\n",
    "val = np.array(test.values)[:,1].astype(float)\n",
    "forecast_accuracy(fc, val)\n"
   ]
  },
  {
   "cell_type": "code",
   "execution_count": null,
   "id": "0993c786",
   "metadata": {},
   "outputs": [],
   "source": []
  },
  {
   "cell_type": "code",
   "execution_count": 183,
   "id": "2d42d99d",
   "metadata": {},
   "outputs": [
    {
     "data": {
      "text/plain": [
       "(10,)"
      ]
     },
     "execution_count": 183,
     "metadata": {},
     "output_type": "execute_result"
    }
   ],
   "source": [
    "np.array(test.values)[:,1].astype(float).shape"
   ]
  }
 ],
 "metadata": {
  "kernelspec": {
   "display_name": "Python 3",
   "language": "python",
   "name": "python3"
  },
  "language_info": {
   "codemirror_mode": {
    "name": "ipython",
    "version": 3
   },
   "file_extension": ".py",
   "mimetype": "text/x-python",
   "name": "python",
   "nbconvert_exporter": "python",
   "pygments_lexer": "ipython3",
   "version": "3.8.8"
  }
 },
 "nbformat": 4,
 "nbformat_minor": 5
}
